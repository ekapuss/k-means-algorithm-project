{
  "nbformat": 4,
  "nbformat_minor": 0,
  "metadata": {
    "colab": {
      "provenance": []
    },
    "kernelspec": {
      "name": "python3",
      "display_name": "Python 3"
    },
    "language_info": {
      "name": "python"
    }
  },
  "cells": [
    {
      "cell_type": "markdown",
      "source": [
        "# Pengertian\n",
        "\n",
        "K-means merupakan salah satu algoritma yang bersifat unsupervised learning. K-Means memiliki fungsi untuk mengelompokkan data kedalam data cluster. Algoritma ini dapat menerima data tanpa ada label kategori. K-Means Clustering Algoritma juga merupakan metode non-hierarchy. Metode Clustering Algoritma adalah mengelompokkan beberapa data ke dalam kelompok yang menjelaskan data dalam satu kelompok memiliki karakteristik yang sama dan memiliki karakteristik yang berbeda dengan data yang ada di kelompok lain. Cluster Sampling adalah teknik pengambilan sampel di mana unit-unit populasi dipilih secara acak dari kelompok yang sudah ada yang disebut ‘cluster, nah Clustering atau klasterisasi adalah salah satu masalah yang menggunakan teknik unsupervised learning.\n",
        "\n",
        "K-Means Clustering adalah suatu metode penganalisaan data atau metode Data Mining yang melakukan proses pemodelan unssupervised learning dan menggunakan metode yang mengelompokan data berbagai partisi.\n",
        "\n",
        "K Means Clustering memiliki objective yaitu meminimalisasi object function yang telah di atur pada proses clasterisasi. Dengan cara minimalisasi variasi antar 1 cluster dengan maksimalisasi variasi dengan data di cluster lainnya.\n",
        "\n"
      ],
      "metadata": {
        "id": "uS7PDuzkPR3B"
      }
    },
    {
      "cell_type": "markdown",
      "source": [
        "# Cara Kerja\n",
        "Untuk melakukan clustering, kita memerlukan beberapa tahapan, diantaranya adalah:\n",
        "\n",
        "<ol>\n",
        "<li>Penentuan nilai k atau cluster yang akan dibuat</li>\n",
        "\n",
        "<li>Inisialisasi nilai centroid secara random</li>\n",
        "\n",
        "Centroid merupakan nilai pusat (center) dari sebuah cluster. Misalkan kita mengatur k = 3, maka akan terbentuk centroid C1, C2, dan C3 secara random.\n",
        "\n",
        "<li>Menetapkan setiap data point ke centroid terdekat</li>\n",
        "\n",
        "Tahapan ini akan melakukan perhitungan jarak pada setiap data terhadap centroid yang telah dibuat menggunakan Euclidean distance.\n",
        "\n",
        "<li>Menghitung ulang nilai centroid dari cluster yang baru terbentuk.</li>\n",
        "\n",
        "<li>Proses ini dilakukan dengan menghitung nilai mean dari setiap data points di dalam cluster tersebut. </li>\n",
        "\n",
        "<li>Melakukan optimasi agar kriteria terpenuhi dengan mengulang step 3 dan 4.</li>\n",
        "</ol>"
      ],
      "metadata": {
        "id": "ffZBSyZFPY3e"
      }
    },
    {
      "cell_type": "markdown",
      "source": [
        "# Contoh :\n",
        "\n",
        "Salah satu strategi penting pada bidang pemasaran / marketing adalah segmentasi pelanggan. Customer segmentation adalah strategi pemasaran yang mengelompokkan target pasar berdasarkan karakteristik yang sama untuk dikelola secara efektif dan tepat agar mencapai tujuan bisnis yang telah ditetapkan. Divisi bagian Marketing perusahaan DQTech ingin melakukan segmentasi pelanggan untuk menentukan pengelompokan pelanggan yang dilakukan secara tepat dengan tujuan untuk memudahkan perusahaan dalam memasarkan produk secara efisien dan efektif, baik secara biaya maupun waktu. Selain itu, penjualan produk juga dapat lebih meningkat sehingga bisnis secara otomatis akan berkembang.\n",
        "\n",
        "Marketing DQTech ingin mengelompokan pelanggan berdasarkan umur (<i>age</i>), pendapatan (<i>annual income</i>) dan <i>spending score</i> (merupakan angka integer (1–100) yang ditentukan oleh pihak perusahaan berdasarkan sifat, behaviour, dan kebiasaan belanja dari tiap-tiap pelanggan) :\n",
        "\n",
        "\n",
        "<table>\n",
        "  <tr>\n",
        "    <td align=\"center\">customer</td>\n",
        "    <td align=\"center\">age</td>\n",
        "    <td align=\"center\">annual income</td>\n",
        "    <td align=\"center\">spending score</td>\n",
        "  </tr>\n",
        "  <tr>\n",
        "    <td align=\"center\">1</td>\n",
        "    <td align=\"center\">19</td>\n",
        "    <td align=\"center\">15</td>\n",
        "    <td align=\"center\">39</td>\n",
        "  </tr>\n",
        "  <tr>\n",
        "    <td align=\"center\">2</td>\n",
        "    <td align=\"center\">21</td>\n",
        "    <td align=\"center\">15</td>\n",
        "    <td align=\"center\">81</td>\n",
        "  </tr>\n",
        "  <tr>\n",
        "    <td align=\"center\">3</td>\n",
        "    <td align=\"center\">20</td>\n",
        "    <td align=\"center\">16</td>\n",
        "    <td align=\"center\">6</td>\n",
        "  </tr>\n",
        "  <tr>\n",
        "    <td align=\"center\">4</td>\n",
        "    <td align=\"center\">23</td>\n",
        "    <td align=\"center\">17</td>\n",
        "    <td align=\"center\">77</td>\n",
        "  </tr>\n",
        "  <tr>\n",
        "    <td align=\"center\">5</td>\n",
        "    <td align=\"center\">31</td>\n",
        "    <td align=\"center\">16</td>\n",
        "    <td align=\"center\">40</td>\n",
        "  </tr>\n",
        "  <tr>\n",
        "    <td align=\"center\">6</td>\n",
        "    <td align=\"center\">28</td>\n",
        "    <td align=\"center\">18</td>\n",
        "    <td align=\"center\">82</td>\n",
        "  </tr>\n",
        "  <tr>\n",
        "    <td align=\"center\">7</td>\n",
        "    <td align=\"center\">27</td>\n",
        "    <td align=\"center\">20</td>\n",
        "    <td align=\"center\">5</td>\n",
        "</table>\n",
        "\n",
        "Dengan algoritma clustering K-Means (parameter : iterasi = 2, banyak cluster = 3) \\[parameter ini tentu bisa disetting secara bebas\\] buatlah pengelompokan pelanggan tersebut!"
      ],
      "metadata": {
        "id": "jjzwaLnqiMCs"
      }
    },
    {
      "cell_type": "markdown",
      "source": [
        "Jawab :\n",
        "\n",
        "Parameter K-Means\n",
        "\n",
        "*   iterasi = 2\n",
        "*   banyak cluster = 3\n",
        "\n",
        "Diketahui banyak data 𝑛 = 7\n",
        "\n",
        "<ol>\n",
        "  <li><b>Tentukan Nilai Max dan Min tiap Variabel</b></li>\n",
        "      <ul>Age : (min = 19, max = 31)</ul>\n",
        "      <ul>Annual Income  : (min = 15, max = 20)</ul>\n",
        "      <ul>Spending Score : (min = 5, max = 82)</ul>\n",
        "  <li><b>Tentukan Pusat Cluster Awal (<i>Centroid</i>) Secara Acak</b></li>\n",
        "      Akan dilakukan proses penentuan posisi cluster awal sebanyak 3 cluster (sesuai parameter yang ditentukan) secara acak (<i>random</i>) namun pada interval tertutup tiap-tiap variabel\n",
        "      <ul>Centroid-𝑖 = (random[19, 31], random[15, 20], random[5, 82])</ul>\n",
        "      <ul>Centroid 1 = (24, 17, 48)</ul>\n",
        "      <ul>Centroid 2 = (19, 16, 37)</ul>\n",
        "      <ul>Centroid 3 = (31, 15, 65)</ul>\n",
        "   <li><b>Hitung Jarak Data per-Customer Terhadap Masing-Masing <i>Centroid</i></b></li>\n",
        "   Customer 1\n",
        "   <ol type=\"a\">\n",
        "   <li>Jarak Data Customer 1 dengan Centroid 1</li>\n",
        "      \\begin{equation}\n",
        "      d_{1,1} = \\sqrt{(c_{1,1}-x_{1,1})^2 + (c_{1,2}-x_{1,2})^2 + (c_{1,3}-x_{1,3})^2}\n",
        "      \\end{equation}\n",
        "      \\begin{equation}\n",
        "      d_{1,1} = \\sqrt{(24-19)^2 + (17-15)^2 + (48-39)^2} = 10.4880\n",
        "      \\end{equation}\n",
        "\n",
        "   <li>Jarak Data Customer 1 dengan Centroid 2</li>\n",
        "      \\begin{equation}\n",
        "      d_{1,2} = \\sqrt{(c_{2,1}-x_{1,1})^2 + (c_{2,2}-x_{1,2})^2 + (c_{2,3}-x_{1,3})^2}\n",
        "      \\end{equation}\n",
        "      \\begin{equation}\n",
        "      d_{1,2} = \\sqrt{(19-19)^2 + (16-15)^2 + (37-39)^2} = 2.2360\n",
        "      \\end{equation}\n",
        "  \n",
        "  <li>Jarak Data Customer 1 dengan Centroid 3</li>\n",
        "      \\begin{equation}\n",
        "      d_{1,3} = \\sqrt{(c_{3,1}-x_{1,1})^2 + (c_{3,2}-x_{1,2})^2 + (c_{3,3}-x_{1,3})^2}\n",
        "      \\end{equation}\n",
        "      \\begin{equation}\n",
        "      d_{1,3} = \\sqrt{(31-19)^2 + (15-15)^2 + (65-39)^2} = 28.6356\n",
        "      \\end{equation}\n",
        "   <li>Tentukan Jarak Minimal Data Customer 1 terhadap Centroid</li>\n",
        "   \\begin{equation}\n",
        "    jarak_{min} = min(d_{1,1},\\;d_{1,2},\\;d_{1,3})\n",
        "   \\end{equation}\n",
        "   \\begin{equation}\n",
        "    jarak_{min} = min(10.4880,\\;2.2360,\\;28.6356)\n",
        "   \\end{equation}  \n",
        "   \\begin{equation}\n",
        "    jarak_{min} = 2.2360\n",
        "   \\end{equation}\n",
        "\n",
        "   Diperoleh jarak paling dekat (minimum) terjadi pada Cluster 2 sehingga Customer 1 akan diletakkan pada kelompok Cluster 2\n",
        "   </ol>\n",
        "  Customer 2\n",
        "   <ol type=\"a\">\n",
        "   <li>Jarak Data Customer 2 dengan Centroid 1</li>\n",
        "      \\begin{equation}\n",
        "      d_{2,1} = \\sqrt{(c_{1,1}-x_{2,1})^2 + (c_{1,2}-x_{2,2})^2 + (c_{1,3}-x_{2,3})^2}\n",
        "      \\end{equation}\n",
        "      \\begin{equation}\n",
        "      d_{2,1} = \\sqrt{(24-21)^2 + (17-15)^2 + (48-81)^2} = 33.1963\n",
        "      \\end{equation}\n",
        "\n",
        "   <li>Jarak Data Customer 2 dengan Centroid 2</li>\n",
        "      \\begin{equation}\n",
        "      d_{2,2} = \\sqrt{(c_{2,1}-x_{2,1})^2 + (c_{2,2}-x_{2,2})^2 + (c_{2,3}-x_{2,3})^2}\n",
        "      \\end{equation}\n",
        "      \\begin{equation}\n",
        "      d_{2,2} = \\sqrt{(19-21)^2 + (16-15)^2 + (37-81)^2} = 44.0567\n",
        "      \\end{equation}\n",
        "  \n",
        "  <li>Jarak Data Customer 2 dengan Centroid 3</li>\n",
        "      \\begin{equation}\n",
        "      d_{2,3} = \\sqrt{(c_{3,1}-x_{2,1})^2 + (c_{3,2}-x_{2,2})^2 + (c_{3,3}-x_{2,3})^2}\n",
        "      \\end{equation}\n",
        "      \\begin{equation}\n",
        "      d_{2,3} = \\sqrt{(31-21)^2 + (15-15)^2 + (65-81)^2} = 18.8679\n",
        "      \\end{equation}\n",
        "   <li>Tentukan Jarak Minimal Data Customer 2 terhadap Centroid</li>\n",
        "   \\begin{equation}\n",
        "    jarak_{min} = min(d_{2,1},\\;d_{2,2},\\;d_{2,3})\n",
        "   \\end{equation}\n",
        "   \\begin{equation}\n",
        "    jarak_{min} = min(33.1963,\\;44.0567,\\;18.8679)\n",
        "   \\end{equation}  \n",
        "   \\begin{equation}\n",
        "    jarak_{min} = 18.8679\n",
        "   \\end{equation}\n",
        "\n",
        "   Diperoleh jarak paling dekat (minimum) terjadi pada Cluster 3 sehingga Customer 2 akan diletakkan pada kelompok Cluster 3\n",
        "   </ol>\n",
        "\n",
        "   Dengan cara yang sama maka akan diperoleh perhitungan sebagai berikut\n",
        "\n",
        "   ![image.png](data:image/png;base64,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)\n",
        "\n",
        "   <li><b>Periksa <i>Stop Conditions</i></b></li>\n",
        "   Perhitungan akan terhenti jika iterasi telah mencapai kondisi yang diinginkan (pada case ini berarti iterasi perhitungan akan berhenti saat iterasi = 2). Karena iterasi belum mencapai nilai 2 maka perhitungan akan dilanjutkan\n",
        "\n",
        "   <li><b>Update Centroid</b></li>\n",
        "   Pusat cluster (centroid) baru ditentukan dengan cara menghitung rata-rata nilai 𝑥 pada data yang terpilih, sehingga diperoleh hasil sebagai berikut :     \n",
        "   Centroid Cluster 1 :\n",
        "\n",
        "   \\begin{equation}\n",
        "   c_{1,1} = \\frac{x_{5,1}}{1}\n",
        "   \\end{equation}\n",
        "   \\begin{equation}\n",
        "   c_{1,1} = \\frac{31}{1} = 31\n",
        "   \\end{equation}\n",
        "\n",
        "   \\begin{equation}\n",
        "   c_{1,2} = \\frac{x_{5,2}}{1}\n",
        "   \\end{equation}\n",
        "   \\begin{equation}\n",
        "   c_{1,2} = \\frac{16}{1} = 16\n",
        "   \\end{equation}\n",
        "\n",
        "   \\begin{equation}\n",
        "   c_{1,3} = \\frac{x_{5,3}}{1}\n",
        "   \\end{equation}\n",
        "   \\begin{equation}\n",
        "   c_{1,2} = \\frac{40}{1} = 40\n",
        "   \\end{equation}\n",
        "\n",
        "   Diperoleh centroid cluster 1 yang baru = (31, 16, 40)\n",
        "\n",
        "   Centroid Cluster 2 :\n",
        "   \n",
        "   \\begin{equation}\n",
        "   c_{2,1} = \\frac{x_{1,1} + x_{3,1} + x_{7,1}}{3}\n",
        "   \\end{equation}\n",
        "   \\begin{equation}\n",
        "   c_{2,1} = \\frac{19+20+27}{3} = 22\n",
        "   \\end{equation}\n",
        "\n",
        "   \\begin{equation}\n",
        "   c_{2,2} = \\frac{x_{1,2} + x_{3,2} + x_{7,2}}{3}\n",
        "   \\end{equation}\n",
        "   \\begin{equation}\n",
        "   c_{2,2} = \\frac{15+16+20}{3} = 17\n",
        "   \\end{equation}\n",
        "\n",
        "   \\begin{equation}\n",
        "   c_{2,3} = \\frac{x_{1,3} + x_{3,3} + x_{7,3}}{3}\n",
        "   \\end{equation}\n",
        "   \\begin{equation}\n",
        "   c_{2,3} = \\frac{39+6+5}{3} = 16.6666\n",
        "   \\end{equation}\n",
        "\n",
        "   Diperoleh centroid cluster 2 yang baru = (22, 17, 16.6666)\n",
        "   \n",
        "   Centroid Cluster 3 :\n",
        "   \n",
        "   \\begin{equation}\n",
        "   c_{3,1} = \\frac{x_{2,1} + x_{4,1} + x_{6,1}}{3}\n",
        "   \\end{equation}\n",
        "   \\begin{equation}\n",
        "   c_{3,1} = \\frac{21+23+28}{3} = 24\n",
        "   \\end{equation}\n",
        "\n",
        "   \\begin{equation}\n",
        "   c_{3,2} = \\frac{x_{2,2} + x_{4,2} + x_{6,2}}{3}\n",
        "   \\end{equation}\n",
        "   \\begin{equation}\n",
        "   c_{3,2} = \\frac{15+17+18}{3} = 16.6666\n",
        "   \\end{equation}\n",
        "\n",
        "   \\begin{equation}\n",
        "   c_{3,3} = \\frac{x_{2,3} + x_{4,3} + x_{6,3}}{3}\n",
        "   \\end{equation}\n",
        "   \\begin{equation}\n",
        "   c_{3,3} = \\frac{81+77+82}{3} = 80\n",
        "   \\end{equation}\n",
        "\n",
        "  Diperoleh centroid cluster 3 yang baru = (24, 16.6666, 80)\n",
        "  <ol>\n",
        "  <ul>Centroid 1 = (31, 16, 40)</ul>\n",
        "  <ul>Centroid 2 = (22, 17, 16.6666)</ul>\n",
        "  <ul>Centroid 3 = (24, 16.6666, 80)</ul>\n",
        "  </ol>\n",
        "  <li><b>Perhitungan Iterasi 2</b></li>\n",
        "  Dengan menggunakan centroid yang baru, hitung jarak tiap data terhadap centroid. Dengan cara yang sama diperoleh\n",
        "\n",
        "![image.png](data:image/png;base64,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)\n",
        "</ol>\n",
        "\n",
        "Karena iterasi telah tercapai, maka perhitungan berhenti sehingga diperoleh pengelompokan sebagai berikut\n",
        "\n",
        "<ol start=\"a\">\n",
        "  <li>Cluster 1 : Customer 1 dan Customer 5</li>\n",
        "  <li>Cluster 2 : Customer 3 dan Customer 7</li>\n",
        "  <li>Cluster 3 : Customer 2, Customer 4 dan Customer 6</li>\n",
        "</ol>"
      ],
      "metadata": {
        "id": "UXUfTcYviMNR"
      }
    },
    {
      "cell_type": "markdown",
      "source": [
        "# Soal\n",
        "\n",
        "Buatlah sebuah fungsi dengan nama kmeans_clustering dan parameter data, maximum iterasi dan banyak cluster atau `kmeans_clustering(data, max_iterasi, n_cluster)` yang menghasilkan return cluster tiap customer (tipe data keluaran dict).\n",
        "\n",
        "Contoh :      \n",
        "\n",
        "    >>> data = {'age' : [19, 21, 20, 23, 31, 28, 27], 'income' : [15, 15, 16, 17, 16, 18, 20], 'spending_score' : [39, 81, 6, 77, 40, 82, 5]}\n",
        "    >>> result = kmeans_clustering(data = data, max_iterasi = 2, n_cluster = 3)\n",
        "    >>> print(result)\n",
        "    ... {'cluster1' : [2, 4, 6], 'cluster2' : [1, 5], 'cluster3' : [3, 7]}\n",
        "\n",
        "nb : Anda hanya diperkenankan menggunakan library `math` untuk menghitung akar pangkat dua dan library `random` untuk membangkitkan bilangan integer secara acak"
      ],
      "metadata": {
        "id": "pVWjh-az66J9"
      }
    },
    {
      "cell_type": "markdown",
      "source": [
        "# Implementasi Program"
      ],
      "metadata": {
        "id": "OwtsRbXnmxEg"
      }
    },
    {
      "cell_type": "code",
      "source": [
        "import math\n",
        "\n",
        "# Menghitung nilai akar pangkat dua\n",
        "y = math.sqrt(5)\n",
        "\n",
        "print(f'Akar pangkat dua dari 5 atau sqrt(5) adalah {y}')"
      ],
      "metadata": {
        "colab": {
          "base_uri": "https://localhost:8080/"
        },
        "id": "s61hxVyEeh7h",
        "outputId": "8df81200-9a55-40b4-e09a-e6a3e2157918"
      },
      "execution_count": 1,
      "outputs": [
        {
          "output_type": "stream",
          "name": "stdout",
          "text": [
            "Akar pangkat dua dari 5 atau sqrt(5) adalah 2.23606797749979\n"
          ]
        }
      ]
    },
    {
      "cell_type": "code",
      "source": [
        "import random\n",
        "\n",
        "r1 = random.randint(1, 10)\n",
        "r2 = random.randint(1, 10)\n",
        "\n",
        "print(f'Hasil generate nilai acak range 1-10 adalah {r1} dan {r2}')"
      ],
      "metadata": {
        "colab": {
          "base_uri": "https://localhost:8080/"
        },
        "id": "A35nuIr7eu0f",
        "outputId": "efa68189-6307-4540-f499-5246eebef64c"
      },
      "execution_count": 2,
      "outputs": [
        {
          "output_type": "stream",
          "name": "stdout",
          "text": [
            "Hasil generate nilai acak range 1-10 adalah 8 dan 1\n"
          ]
        }
      ]
    },
    {
      "cell_type": "code",
      "source": [
        "import math\n",
        "import random"
      ],
      "metadata": {
        "id": "cmGjOjSVe_uh"
      },
      "execution_count": 3,
      "outputs": []
    },
    {
      "cell_type": "code",
      "source": [
        "def format_data_perulangan(data):\n",
        "  for key, value in data.items():\n",
        "      value_len = len(value)\n",
        "\n",
        "  new_data = {}\n",
        "  for i in range(value_len):\n",
        "    new_list = []\n",
        "    for key, value in data.items():\n",
        "      new_list.append(value[i])\n",
        "      new_data[i+1] = new_list\n",
        "\n",
        "  return(new_data)\n"
      ],
      "metadata": {
        "id": "ovrOFKGvvvWV"
      },
      "execution_count": 4,
      "outputs": []
    },
    {
      "cell_type": "code",
      "source": [
        "def random_cluster(n_cluster, data):\n",
        "  cluster_dict = {}\n",
        "\n",
        "  for i in range(n_cluster):\n",
        "    list_cluster = []\n",
        "    for key, value in data.items():\n",
        "      min_value = min(value)\n",
        "      max_value = max(value)\n",
        "      list_cluster.append(random.randint(min_value, max_value))\n",
        "    cluster_dict[i+1] = list_cluster\n",
        "\n",
        "  return(cluster_dict)"
      ],
      "metadata": {
        "id": "877SuWXjxWYv"
      },
      "execution_count": 5,
      "outputs": []
    },
    {
      "cell_type": "code",
      "source": [
        "def cluster_calc(data, cluster):\n",
        "  new_cluster = []\n",
        "\n",
        "  for a, b in data.items():\n",
        "    result_cls = {}\n",
        "    for c, d in cluster.items():\n",
        "      result = math.sqrt(((b[0] - d[0]) ** 2) + ((b[1] - d[1]) ** 2) +((b[2] - d[2]) ** 2))\n",
        "      result_cls[c] = result\n",
        "    new_cluster.append(min(result_cls, key = result_cls.get))\n",
        "\n",
        "  return(new_cluster)"
      ],
      "metadata": {
        "id": "EhoxkYHdy5JG"
      },
      "execution_count": 6,
      "outputs": []
    },
    {
      "cell_type": "code",
      "source": [
        "def centroid_update(data):\n",
        "  update_centroid = {}\n",
        "  c11 = 0\n",
        "  c12 = 0\n",
        "  c13 = 0\n",
        "  c21 = 0\n",
        "  c22 = 0\n",
        "  c23 = 0\n",
        "  c31 = 0\n",
        "  c32 = 0\n",
        "  c33 = 0\n",
        "  total_data1 = 0\n",
        "  total_data2 = 0\n",
        "  total_data3 = 0\n",
        "\n",
        "  for i in range(len(data['cluster'])):\n",
        "    if data['cluster'][i] == 1:\n",
        "      total_data1 += 1\n",
        "      c11 += data['age'][i]\n",
        "      c12 += data['income'][i]\n",
        "      c13 += data['spending_score'][i]\n",
        "    elif data['cluster'][i] ==2:\n",
        "      total_data2 += 1\n",
        "      c21 += data['age'][i]\n",
        "      c22 += data['income'][i]\n",
        "      c23 += data['spending_score'][i]\n",
        "    elif data['cluster'][i]==3:\n",
        "      total_data3 += 1\n",
        "      c31 += data['age'][i]\n",
        "      c32 += data['income'][i]\n",
        "      c33 += data['spending_score'][i]\n",
        "\n",
        "  if 1 not in update_centroid.keys():\n",
        "    update_centroid[1] = [c11/total_data1, c12/total_data1, c13/total_data1]\n",
        "\n",
        "  if 2 not in update_centroid.keys():\n",
        "    update_centroid[2] = [c21/total_data2, c22/total_data2, c23/total_data2]\n",
        "\n",
        "  if 3 not in update_centroid.keys():\n",
        "    update_centroid[3] = [c31/total_data3, c32/total_data3, c33/total_data3]\n",
        "\n",
        "  return(update_centroid)\n"
      ],
      "metadata": {
        "id": "YvvXWuJBz8CK"
      },
      "execution_count": 7,
      "outputs": []
    },
    {
      "cell_type": "code",
      "source": [
        "def output_format(data):\n",
        "  output_data = {}\n",
        "  for key, value in data.items():\n",
        "      value_len = len(value)\n",
        "\n",
        "  for i in range(value_len):\n",
        "    output_list = []\n",
        "    for key, value in data.items():\n",
        "      output_list.append(value[i])\n",
        "      output_data[i+1] = output_list\n",
        "\n",
        "  final_cluster = {}\n",
        "  cluster1 = []\n",
        "  cluster2 = []\n",
        "  cluster3 = []\n",
        "\n",
        "  for key, value in output_data.items():\n",
        "    if value[3] == 1:\n",
        "      cluster1.append(key)\n",
        "    if value[3] == 2:\n",
        "      cluster2.append(key)\n",
        "    if value[3] == 3:\n",
        "      cluster3.append(key)\n",
        "\n",
        "  if 'cluster1' not in final_cluster.keys():\n",
        "    final_cluster['cluster1'] = cluster1\n",
        "\n",
        "  if 'cluster2' not in final_cluster.keys():\n",
        "    final_cluster['cluster2'] = cluster2\n",
        "\n",
        "  if 'cluster3' not in final_cluster.keys():\n",
        "    final_cluster['cluster3'] = cluster3\n",
        "\n",
        "  return(final_cluster)"
      ],
      "metadata": {
        "id": "iWHlXP5wCkp1"
      },
      "execution_count": 8,
      "outputs": []
    },
    {
      "cell_type": "code",
      "source": [
        "def kmeans_clustering(data, max_iterasi, n_cluster):\n",
        "  update_data = {}\n",
        "  update_data = data\n",
        "  cluster = {}\n",
        "\n",
        "  #format data untuk perulangan\n",
        "  new_data = format_data_perulangan(data)\n",
        "\n",
        "  for i in range(max_iterasi):\n",
        "      if i == 0:\n",
        "        #random cluster\n",
        "        cluster_dict = random_cluster(n_cluster, data)\n",
        "\n",
        "        #menentukan cluster data\n",
        "        new_cluster = cluster_calc(new_data, cluster_dict)\n",
        "\n",
        "        if 'cluster' not in update_data.keys():\n",
        "            update_data['cluster'] = new_cluster\n",
        "\n",
        "      elif i >= max_iterasi:\n",
        "            break\n",
        "\n",
        "      else:\n",
        "        #centroid cluster baru\n",
        "        update_centroid = centroid_update(update_data)\n",
        "\n",
        "        #menentukan cluster iterasi n\n",
        "        new_cluster = cluster_calc(new_data, update_centroid)\n",
        "\n",
        "        update_data['cluster'] = new_cluster\n",
        "\n",
        "  final_cluster = output_format(update_data)\n",
        "\n",
        "  return(final_cluster)"
      ],
      "metadata": {
        "id": "RJE8stXHNMrB"
      },
      "execution_count": 9,
      "outputs": []
    },
    {
      "cell_type": "code",
      "source": [
        "data = {'age' : [19, 21, 20, 23, 31, 28, 27], 'income' : [15, 15, 16, 17, 16, 18, 20], 'spending_score' : [39, 81, 6, 77, 40, 82, 5]}\n",
        "max_iterasi = 2\n",
        "n_cluster = 3\n",
        "\n",
        "result = kmeans_clustering(data = data, max_iterasi = 2, n_cluster = 3)\n",
        "print(result)\n"
      ],
      "metadata": {
        "colab": {
          "base_uri": "https://localhost:8080/"
        },
        "id": "GD5I8RhK1149",
        "outputId": "01e7dc86-aa17-4ef1-fcd9-422b1037c960"
      },
      "execution_count": 10,
      "outputs": [
        {
          "output_type": "stream",
          "name": "stdout",
          "text": [
            "{'cluster1': [1, 5], 'cluster2': [2, 4, 6], 'cluster3': [3, 7]}\n"
          ]
        }
      ]
    }
  ]
}